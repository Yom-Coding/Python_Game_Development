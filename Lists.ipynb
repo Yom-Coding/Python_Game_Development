{
 "cells": [
  {
   "cell_type": "code",
   "execution_count": null,
   "metadata": {},
   "outputs": [],
   "source": [
    "# Lists are one of the advanced data structure in python\n",
    "# Lists are generally enclosed in square brackets\n",
    "# Lists can contain different kinds of data. Namely integers, floats, strings, tuples, sets, dictionaries, lists etc.\n",
    "# Lists within lists are known as Nested Lists\n",
    "# Lists have 2 major concepts of indexing and slicing\n",
    "# Indexes are used to identify items in a list. Every item will have its own index value\n",
    "# Indexes start from 0, 1, 2, 3.....\n",
    "# Indexes are of two types : positive and negative. Positive index go in the direction of left to right and negative index vice versa\n",
    "# In slicing we extract some portions of the list. Slicing starts from the starting index and will go upto 1 less than destination index\n"
   ]
  },
  {
   "cell_type": "code",
   "execution_count": null,
   "metadata": {
    "vscode": {
     "languageId": "plaintext"
    }
   },
   "outputs": [],
   "source": []
  },
  {
   "cell_type": "code",
   "execution_count": null,
   "metadata": {
    "vscode": {
     "languageId": "plaintext"
    }
   },
   "outputs": [],
   "source": []
  },
  {
   "cell_type": "code",
   "execution_count": null,
   "metadata": {
    "vscode": {
     "languageId": "plaintext"
    }
   },
   "outputs": [],
   "source": []
  },
  {
   "cell_type": "code",
   "execution_count": null,
   "metadata": {
    "vscode": {
     "languageId": "plaintext"
    }
   },
   "outputs": [],
   "source": []
  },
  {
   "cell_type": "code",
   "execution_count": null,
   "metadata": {
    "vscode": {
     "languageId": "plaintext"
    }
   },
   "outputs": [],
   "source": []
  }
 ],
 "metadata": {
  "language_info": {
   "name": "python"
  }
 },
 "nbformat": 4,
 "nbformat_minor": 2
}
